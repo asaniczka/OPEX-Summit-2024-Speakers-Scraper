{
 "cells": [
  {
   "cell_type": "code",
   "execution_count": 6,
   "metadata": {},
   "outputs": [],
   "source": [
    "import pandas as pd"
   ]
  },
  {
   "cell_type": "code",
   "execution_count": 7,
   "metadata": {},
   "outputs": [
    {
     "name": "stdout",
     "output_type": "stream",
     "text": [
      "<class 'pandas.core.frame.DataFrame'>\n",
      "RangeIndex: 160 entries, 0 to 159\n",
      "Data columns (total 10 columns):\n",
      " #   Column         Non-Null Count  Dtype \n",
      "---  ------         --------------  ----- \n",
      " 0   name           160 non-null    object\n",
      " 1   position       160 non-null    object\n",
      " 2   company        160 non-null    object\n",
      " 3   image          160 non-null    object\n",
      " 4   bio            116 non-null    object\n",
      " 5   venue          140 non-null    object\n",
      " 6   day            140 non-null    object\n",
      " 7   time           140 non-null    object\n",
      " 8   topic          140 non-null    object\n",
      " 9   topic_summary  113 non-null    object\n",
      "dtypes: object(10)\n",
      "memory usage: 12.6+ KB\n"
     ]
    }
   ],
   "source": [
    "df = pd.read_csv('OPEX_speakers_data/data/OPEX_speakers.csv')\n",
    "df.info()"
   ]
  },
  {
   "cell_type": "code",
   "execution_count": 8,
   "metadata": {},
   "outputs": [
    {
     "data": {
      "text/plain": [
       "0"
      ]
     },
     "execution_count": 8,
     "metadata": {},
     "output_type": "execute_result"
    }
   ],
   "source": [
    "df.duplicated().sum()"
   ]
  },
  {
   "cell_type": "code",
   "execution_count": 9,
   "metadata": {},
   "outputs": [
    {
     "data": {
      "text/plain": [
       "name              0\n",
       "position          0\n",
       "company           0\n",
       "image             0\n",
       "bio              44\n",
       "venue            20\n",
       "day              20\n",
       "time             20\n",
       "topic            20\n",
       "topic_summary    47\n",
       "dtype: int64"
      ]
     },
     "execution_count": 9,
     "metadata": {},
     "output_type": "execute_result"
    }
   ],
   "source": [
    "df.isna().sum()"
   ]
  }
 ],
 "metadata": {
  "kernelspec": {
   "display_name": "base",
   "language": "python",
   "name": "python3"
  },
  "language_info": {
   "codemirror_mode": {
    "name": "ipython",
    "version": 3
   },
   "file_extension": ".py",
   "mimetype": "text/x-python",
   "name": "python",
   "nbconvert_exporter": "python",
   "pygments_lexer": "ipython3",
   "version": "3.11.5"
  }
 },
 "nbformat": 4,
 "nbformat_minor": 2
}
